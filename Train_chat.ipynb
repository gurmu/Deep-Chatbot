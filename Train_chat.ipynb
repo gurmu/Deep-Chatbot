{
  "nbformat": 4,
  "nbformat_minor": 0,
  "metadata": {
    "colab": {
      "name": "Untitled3.ipynb",
      "provenance": [],
      "authorship_tag": "ABX9TyMu+rxHxV/2egL95vg+4Mvu",
      "include_colab_link": true
    },
    "kernelspec": {
      "name": "python3",
      "display_name": "Python 3"
    }
  },
  "cells": [
    {
      "cell_type": "markdown",
      "metadata": {
        "id": "view-in-github",
        "colab_type": "text"
      },
      "source": [
        "<a href=\"https://colab.research.google.com/github/gurmu/Deep-Chatbot/blob/master/Train_chat.ipynb\" target=\"_parent\"><img src=\"https://colab.research.google.com/assets/colab-badge.svg\" alt=\"Open In Colab\"/></a>"
      ]
    },
    {
      "cell_type": "code",
      "metadata": {
        "id": "AwXwadzBcd0Z",
        "colab_type": "code",
        "colab": {
          "base_uri": "https://localhost:8080/",
          "height": 34
        },
        "outputId": "6f966e5f-ff60-4d25-9d4b-68a403da4f1b"
      },
      "source": [
        "import tensorflow as tf\n",
        "print(tf.__version__)"
      ],
      "execution_count": 1,
      "outputs": [
        {
          "output_type": "stream",
          "text": [
            "2.2.0-rc3\n"
          ],
          "name": "stdout"
        }
      ]
    },
    {
      "cell_type": "code",
      "metadata": {
        "id": "pNZvQIb2clAH",
        "colab_type": "code",
        "colab": {}
      },
      "source": [
        "from sklearn.model_selection import train_test_split\n",
        "\n",
        "import numpy as np\n",
        "import pandas as pd\n",
        "import matplotlib.pyplot as plt\n",
        "import math\n",
        "import os\n",
        "import time"
      ],
      "execution_count": 0,
      "outputs": []
    },
    {
      "cell_type": "code",
      "metadata": {
        "id": "tUA25ntrcr4V",
        "colab_type": "code",
        "colab": {}
      },
      "source": [
        "def load_dataset(path):\n",
        "    \"\"\"\n",
        "    Reads the data from the csv file.\n",
        "    Arguments:\n",
        "        path: a string.\n",
        "    Returns:\n",
        "        dataset: a Pandas Dataframe with two columns, namely: `Question` and `Answer`.\n",
        "        X: a NumPy array representing `Question` column.\n",
        "        Y: a NumPy array representing `Answer` column.\n",
        "    \"\"\"\n",
        "    \n",
        "    # read the csv file into a pandas dataframe\n",
        "    dataset = pd.read_csv(path, usecols=['Question', 'Answer'])\n",
        "    # make sure all cell values are strings; because some of them \n",
        "    # only contain numbers, so they maybe mistaken with other types.\n",
        "    dataset = dataset.applymap(str)\n",
        "    # shuffle the rows of the dataframe and then reset the index\n",
        "    dataset = dataset.sample(frac=1).reset_index(drop=True)\n",
        "    \n",
        "    X = np.asarray(dataset['Question'])\n",
        "    Y = np.asarray(dataset['Answer'])\n",
        "    \n",
        "    X = np.apply_along_axis(lambda sen: '<start> '+ sen + ' <end>', 0, X)\n",
        "    Y = np.apply_along_axis(lambda sen: '<start> '+ sen + ' <end>', 0, Y)\n",
        "    \n",
        "    return dataset, X, Y"
      ],
      "execution_count": 0,
      "outputs": []
    },
    {
      "cell_type": "code",
      "metadata": {
        "id": "k6paNfgwdA6g",
        "colab_type": "code",
        "colab": {
          "base_uri": "https://localhost:8080/",
          "height": 34
        },
        "outputId": "96e56cea-6b00-4cdc-9403-80d400945cf0"
      },
      "source": [
        "!ls"
      ],
      "execution_count": 5,
      "outputs": [
        {
          "output_type": "stream",
          "text": [
            "sample_data\n"
          ],
          "name": "stdout"
        }
      ]
    },
    {
      "cell_type": "code",
      "metadata": {
        "id": "-ZniusXVeBT9",
        "colab_type": "code",
        "colab": {}
      },
      "source": [
        "!mkdir path"
      ],
      "execution_count": 0,
      "outputs": []
    },
    {
      "cell_type": "code",
      "metadata": {
        "id": "q7pHSuNseHc1",
        "colab_type": "code",
        "colab": {
          "base_uri": "https://localhost:8080/",
          "height": 34
        },
        "outputId": "7816440c-f30a-4c9a-d44b-f97558198774"
      },
      "source": [
        "%cd path/"
      ],
      "execution_count": 7,
      "outputs": [
        {
          "output_type": "stream",
          "text": [
            "/content/path\n"
          ],
          "name": "stdout"
        }
      ]
    },
    {
      "cell_type": "code",
      "metadata": {
        "id": "0AgYfXuXeK8P",
        "colab_type": "code",
        "colab": {
          "resources": {
            "http://localhost:8080/nbextensions/google.colab/files.js": {
              "data": "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",
              "ok": true,
              "headers": [
                [
                  "content-type",
                  "application/javascript"
                ]
              ],
              "status": 200,
              "status_text": ""
            }
          },
          "base_uri": "https://localhost:8080/",
          "height": 111
        },
        "outputId": "f3f8634f-ddfb-4bb4-8621-f2c3ec5f1d26"
      },
      "source": [
        "from google.colab import files\n",
        "files.upload()"
      ],
      "execution_count": 8,
      "outputs": [
        {
          "output_type": "display_data",
          "data": {
            "text/html": [
              "\n",
              "     <input type=\"file\" id=\"files-6ab5aa45-883f-42a3-9e82-caa5fedbede6\" name=\"files[]\" multiple disabled />\n",
              "     <output id=\"result-6ab5aa45-883f-42a3-9e82-caa5fedbede6\">\n",
              "      Upload widget is only available when the cell has been executed in the\n",
              "      current browser session. Please rerun this cell to enable.\n",
              "      </output>\n",
              "      <script src=\"/nbextensions/google.colab/files.js\"></script> "
            ],
            "text/plain": [
              "<IPython.core.display.HTML object>"
            ]
          },
          "metadata": {
            "tags": []
          }
        },
        {
          "output_type": "stream",
          "text": [
            "Saving bot.csv to bot.csv\n"
          ],
          "name": "stdout"
        },
        {
          "output_type": "execute_result",
          "data": {
            "text/plain": [
              "{'bot.csv': b',Question,Answer\\r\\n0,do i have too many issues for counseling ?,there is no such thing as too many issues for counseling . many issues are often interrelated and can all be worked on with some time and patience .\\r\\n1,how can i find myself again ?,check this blog out : four - ways - add - self - esteem - friends - listhope you find a few nuggets of helpfulness in this .\\r\\n2,is it normal to go into therapy feeling nervous ?,certainly .\\r\\n3,i have difficulty with communication,\"i can offer you hypnosis for confidence in presentations , via skype , if you \\' re in cali .\"\\r\\n4,how do i become more self - confident in general ?,check out my latest blog : four - ways - add - self - esteem - friends - listi hope this offers you some nuggets of helpfulness !\\r\\n5,why do i have low self - esteem and lack confidence ?,check out my latest blog on : four - ways - add - self - esteem - friends - listi hope this offers you some nuggets of helpfulness !\\r\\n6,i hate the way i look,check out my latest blog : four - ways - add - self - esteem - friends - listi hope this offers you some nuggets of helpfulness !\\r\\n7,i want to be a boy but i can \\' t because of my religion,\"chances are your family already knows , they are probably just waiting on confirmation from you to say it . a parent knows their child .\"\\r\\n8,\"i cheated on my partner , and i don \\' t know how to feel\",my questions to you would be : why did you get married ? would it bother you if your spouse did the same to you ?\\r\\n9,what do you do if your partner isn \\' t satisfying your needs sexually ?,depends : what do would you like to see happen ?\\r\\n10,i just lost my grandpa,your local hospice will have grief support groups and free community counseling available with bereavement counselors who are expects with grief and loss .\\r\\n11,i over endulge when i drink alcohol and feel extremely guilty about it the next day,i offer that getting a professional assessment is in order to look at your relationship with alcohol .\\r\\n12,how can i avoid family members who stress me out ?,i just want to understand before i answer . who exactly is complaining ?\\r\\n13,what \\' s wrong with me for going to summer school ?,there is nothing wrong with going to summer school .\\r\\n14,i feel like i could never be with anyone because no one would want me,what would make you feel no one wants to be with you ?\\r\\n15,how can i be interested in the same sex after nearly 40 years of being straight ?,sexuality is fluid . it is possible to find yourself attracted sexually or affectionally to different types of people at different times in your life .\\r\\n16,how do i go about asking my ex - girlfriend to expose me to her friends so i can come out finally ?,i am a bit confused ? are your ex - girlfriend \\' s friends gay ? i feel the need for a bit more information .\\r\\n17,how does counseling end ?,for most : when the money / insurance runs out . when best : when the job is done . . . and you \\' re feeling much better .\\r\\n18,how can i be less stressed ?,learn how to meditate . i recommend a mindful based stress reduction mbsr program .\\r\\n19,why do i get aroused when women call me \\' gay \\' ?,maybe it is a way to secretly satisfy your own wish to be or to live life gay .\\r\\n20,how does a counselor diagnose someone with a disorder ?,\"a lot goes into diagnosing for a disorder . it is according to what the provider \\' s assessment from information gathered , reported and observed from the client .\"\\r\\n21,how would i know if i have the right therapist ?,if you connect with your therapist and can say whatever you want to say and not be judged .\\r\\n22,is it normal to cry at therapy ?,crying is clearing . it is a release of energy and toxins . crying is a good thing and a great way to let go and move forward !\\r\\n23,is it normal to cry at therapy ?,\"for many people , crying is a stress - release valve . it is perfectly ok to cry in counseling !\"\\r\\n24,how does someone approach a counselor ?,\"usually people call me by phone , they introduce themselves , we chat for a bit , then we schedule a time for their appointment\"\\r\\n'}"
            ]
          },
          "metadata": {
            "tags": []
          },
          "execution_count": 8
        }
      ]
    },
    {
      "cell_type": "code",
      "metadata": {
        "id": "01oyGCSaflzB",
        "colab_type": "code",
        "colab": {
          "base_uri": "https://localhost:8080/",
          "height": 34
        },
        "outputId": "f6c19945-d174-4dea-8755-3c714b72e1c9"
      },
      "source": [
        "%ls"
      ],
      "execution_count": 10,
      "outputs": [
        {
          "output_type": "stream",
          "text": [
            "bot.csv\n"
          ],
          "name": "stdout"
        }
      ]
    },
    {
      "cell_type": "code",
      "metadata": {
        "id": "wZ3SiXEZf4iD",
        "colab_type": "code",
        "colab": {
          "base_uri": "https://localhost:8080/",
          "height": 34
        },
        "outputId": "18c2f9f2-2046-4675-91b3-b2029d912dc7"
      },
      "source": [
        "!ls"
      ],
      "execution_count": 11,
      "outputs": [
        {
          "output_type": "stream",
          "text": [
            "bot.csv\n"
          ],
          "name": "stdout"
        }
      ]
    },
    {
      "cell_type": "code",
      "metadata": {
        "id": "Ihe9OJmcf64H",
        "colab_type": "code",
        "colab": {}
      },
      "source": [
        "def load_dataset(path):\n",
        "    \"\"\"\n",
        "    Reads the data from the csv file.\n",
        "    Arguments:\n",
        "        path: a string.\n",
        "    Returns:\n",
        "        dataset: a Pandas Dataframe with two columns, namely: `Question` and `Answer`.\n",
        "        X: a NumPy array representing `Question` column.\n",
        "        Y: a NumPy array representing `Answer` column.\n",
        "    \"\"\"\n",
        "    \n",
        "    # read the csv file into a pandas dataframe\n",
        "    dataset = pd.read_csv(path, usecols=['Question', 'Answer'])\n",
        "    # make sure all cell values are strings; because some of them \n",
        "    # only contain numbers, so they maybe mistaken with other types.\n",
        "    dataset = dataset.applymap(str)\n",
        "    # shuffle the rows of the dataframe and then reset the index\n",
        "    dataset = dataset.sample(frac=1).reset_index(drop=True)\n",
        "    \n",
        "    X = np.asarray(dataset['Question'])\n",
        "    Y = np.asarray(dataset['Answer'])\n",
        "    \n",
        "    X = np.apply_along_axis(lambda sen: '<start> '+ sen + ' <end>', 0, X)\n",
        "    Y = np.apply_along_axis(lambda sen: '<start> '+ sen + ' <end>', 0, Y)\n",
        "    \n",
        "    return dataset, X, Y"
      ],
      "execution_count": 0,
      "outputs": []
    },
    {
      "cell_type": "code",
      "metadata": {
        "id": "33_wGvQHgGJy",
        "colab_type": "code",
        "colab": {
          "base_uri": "https://localhost:8080/",
          "height": 204
        },
        "outputId": "a0e3d37a-af46-43c0-9c19-7f4a9f79cbac"
      },
      "source": [
        "files_path = '/content/path/'\n",
        "qa_dataframe, X, Y = load_dataset(files_path + 'bot.csv')\n",
        "qa_dataframe.head()"
      ],
      "execution_count": 16,
      "outputs": [
        {
          "output_type": "execute_result",
          "data": {
            "text/html": [
              "<div>\n",
              "<style scoped>\n",
              "    .dataframe tbody tr th:only-of-type {\n",
              "        vertical-align: middle;\n",
              "    }\n",
              "\n",
              "    .dataframe tbody tr th {\n",
              "        vertical-align: top;\n",
              "    }\n",
              "\n",
              "    .dataframe thead th {\n",
              "        text-align: right;\n",
              "    }\n",
              "</style>\n",
              "<table border=\"1\" class=\"dataframe\">\n",
              "  <thead>\n",
              "    <tr style=\"text-align: right;\">\n",
              "      <th></th>\n",
              "      <th>Question</th>\n",
              "      <th>Answer</th>\n",
              "    </tr>\n",
              "  </thead>\n",
              "  <tbody>\n",
              "    <tr>\n",
              "      <th>0</th>\n",
              "      <td>why do i have low self - esteem and lack confi...</td>\n",
              "      <td>check out my latest blog on : four - ways - ad...</td>\n",
              "    </tr>\n",
              "    <tr>\n",
              "      <th>1</th>\n",
              "      <td>do i have too many issues for counseling ?</td>\n",
              "      <td>there is no such thing as too many issues for ...</td>\n",
              "    </tr>\n",
              "    <tr>\n",
              "      <th>2</th>\n",
              "      <td>is it normal to go into therapy feeling nervous ?</td>\n",
              "      <td>certainly .</td>\n",
              "    </tr>\n",
              "    <tr>\n",
              "      <th>3</th>\n",
              "      <td>how can i avoid family members who stress me o...</td>\n",
              "      <td>i just want to understand before i answer . wh...</td>\n",
              "    </tr>\n",
              "    <tr>\n",
              "      <th>4</th>\n",
              "      <td>how does counseling end ?</td>\n",
              "      <td>for most : when the money / insurance runs out...</td>\n",
              "    </tr>\n",
              "  </tbody>\n",
              "</table>\n",
              "</div>"
            ],
            "text/plain": [
              "                                            Question                                             Answer\n",
              "0  why do i have low self - esteem and lack confi...  check out my latest blog on : four - ways - ad...\n",
              "1         do i have too many issues for counseling ?  there is no such thing as too many issues for ...\n",
              "2  is it normal to go into therapy feeling nervous ?                                        certainly .\n",
              "3  how can i avoid family members who stress me o...  i just want to understand before i answer . wh...\n",
              "4                          how does counseling end ?  for most : when the money / insurance runs out..."
            ]
          },
          "metadata": {
            "tags": []
          },
          "execution_count": 16
        }
      ]
    },
    {
      "cell_type": "code",
      "metadata": {
        "id": "-8BMDsnTgX0L",
        "colab_type": "code",
        "colab": {
          "base_uri": "https://localhost:8080/",
          "height": 34
        },
        "outputId": "b44839d7-fc73-488d-93fd-628682fed2d2"
      },
      "source": [
        "print(f\"Number of question-answer pairs in the dataset: {len(qa_dataframe)}\")"
      ],
      "execution_count": 17,
      "outputs": [
        {
          "output_type": "stream",
          "text": [
            "Number of question-answer pairs in the dataset: 25\n"
          ],
          "name": "stdout"
        }
      ]
    },
    {
      "cell_type": "code",
      "metadata": {
        "id": "n4S_XorZgrdE",
        "colab_type": "code",
        "colab": {}
      },
      "source": [
        ""
      ],
      "execution_count": 0,
      "outputs": []
    },
    {
      "cell_type": "markdown",
      "metadata": {
        "id": "PwpCo9aXgvnz",
        "colab_type": "text"
      },
      "source": [
        "Cache all hyperparameters into this dictionary:"
      ]
    },
    {
      "cell_type": "code",
      "metadata": {
        "id": "XNuKu-IEgwrp",
        "colab_type": "code",
        "colab": {}
      },
      "source": [
        "hyperparameters = dict()"
      ],
      "execution_count": 0,
      "outputs": []
    },
    {
      "cell_type": "code",
      "metadata": {
        "id": "K6G8uKykg3CJ",
        "colab_type": "code",
        "colab": {}
      },
      "source": [
        ""
      ],
      "execution_count": 0,
      "outputs": []
    },
    {
      "cell_type": "markdown",
      "metadata": {
        "id": "Ub75Qe8ohAs2",
        "colab_type": "text"
      },
      "source": [
        "**Choose the size of vocabulary:**\n",
        "\n",
        "This is a hyperparameter that you can play with.![alt text](![alt text](https://))"
      ]
    },
    {
      "cell_type": "code",
      "metadata": {
        "id": "PhUVAjnghD_t",
        "colab_type": "code",
        "colab": {}
      },
      "source": [
        "VOCAB_SIZE = 25"
      ],
      "execution_count": 0,
      "outputs": []
    },
    {
      "cell_type": "code",
      "metadata": {
        "id": "2kxxwwSehUMQ",
        "colab_type": "code",
        "colab": {}
      },
      "source": [
        ""
      ],
      "execution_count": 0,
      "outputs": []
    },
    {
      "cell_type": "markdown",
      "metadata": {
        "id": "oJpn0vtShcOB",
        "colab_type": "text"
      },
      "source": [
        "Now, let's tokenize the data, by converting each sentence (question or answer) to a sequence of integers which represent indices of their embeddings."
      ]
    },
    {
      "cell_type": "code",
      "metadata": {
        "id": "eM2hxr87hdpb",
        "colab_type": "code",
        "colab": {}
      },
      "source": [
        "def tokenize(sentences, vocab_size):\n",
        "  \n",
        "    \"\"\"\n",
        "    Using Tensorflow Tokenizer to turn each sentence into a sequence of integers \n",
        "    (each integer being the index of a token in a dictionary).\n",
        "    Arguments:\n",
        "      X: a list or a NumPy array of strings, where each element is a sentence.\n",
        "    Returns:\n",
        "      tensor: a NumPy ndarray, where each row represents the the sequence of\n",
        "              integers that maps the words of the equivalent sentence in \n",
        "              the `sentences` list to a their indices (for embbedings). shape=(batch_size, )\n",
        "      lang_tokenizer: a Tensorflow Tokenizer which have been fit on `sentences`.\n",
        "    \"\"\" \n",
        "\n",
        "    lang_tokenizer = tf.keras.preprocessing.text.Tokenizer(num_words=vocab_size, \n",
        "                                                           filters='')\n",
        "    lang_tokenizer.fit_on_texts(sentences)\n",
        "\n",
        "    tensor = lang_tokenizer.texts_to_sequences(sentences)\n",
        "    tensor = tf.keras.preprocessing.sequence.pad_sequences(tensor, padding='post')\n",
        "\n",
        "    return tensor, lang_tokenizer"
      ],
      "execution_count": 0,
      "outputs": []
    },
    {
      "cell_type": "code",
      "metadata": {
        "id": "G24oFTAohrQ4",
        "colab_type": "code",
        "colab": {
          "base_uri": "https://localhost:8080/",
          "height": 51
        },
        "outputId": "19912210-de7f-48ec-e19a-d803753d22ef"
      },
      "source": [
        "# all sentences (Questions & Answers)\n",
        "# we need to fit the tokenizer on all sentences; to create word_index and \n",
        "# index_word mapper dictionaries for the most frequent VOCAB_SIZE= 10,000 words.\n",
        "texts = np.concatenate((X, Y))\n",
        "# tokenize the data\n",
        "tensor, text_tokenizer = tokenize(texts, VOCAB_SIZE)\n",
        "\n",
        "print(f\"texts[0]= {texts[0]}\")\n",
        "print(f\"tensor[0]= {tensor[0]}\")"
      ],
      "execution_count": 22,
      "outputs": [
        {
          "output_type": "stream",
          "text": [
            "texts[0]= <start> why do i have low self - esteem and lack confidence ? <end>\n",
            "tensor[0]= [ 1 22  3  4 11  7  2  0  0  0  0  0  0  0  0]\n"
          ],
          "name": "stdout"
        }
      ]
    },
    {
      "cell_type": "code",
      "metadata": {
        "id": "OhfCEVMzhsW4",
        "colab_type": "code",
        "colab": {}
      },
      "source": [
        ""
      ],
      "execution_count": 0,
      "outputs": []
    },
    {
      "cell_type": "markdown",
      "metadata": {
        "id": "UNJNeMsfhyNR",
        "colab_type": "text"
      },
      "source": [
        "As we see, each sentence has been converted to an array with indices that will be used to map words to their embedding vectors.\n",
        "\n",
        "Now, let's extract back X (for questions) and Y (for answers) arrays from tensor:"
      ]
    },
    {
      "cell_type": "code",
      "metadata": {
        "id": "VRzirts8hzhn",
        "colab_type": "code",
        "colab": {
          "base_uri": "https://localhost:8080/",
          "height": 51
        },
        "outputId": "9457f19b-019d-4204-aa48-805fb34d0563"
      },
      "source": [
        "# extract questions and answers back from tensor\n",
        "X, Y = tensor[:len(X)], tensor[len(X):]\n",
        "\n",
        "print(f\"Shape of X (questions): {X.shape}\")\n",
        "print(f\"Shape of Y (answers): {Y.shape}\")"
      ],
      "execution_count": 23,
      "outputs": [
        {
          "output_type": "stream",
          "text": [
            "Shape of X (questions): (25, 15)\n",
            "Shape of Y (answers): (25, 15)\n"
          ],
          "name": "stdout"
        }
      ]
    },
    {
      "cell_type": "markdown",
      "metadata": {
        "id": "NsK-HgPgiEEt",
        "colab_type": "text"
      },
      "source": [
        "Get the maximum sequence length for both input and target tensors:"
      ]
    },
    {
      "cell_type": "code",
      "metadata": {
        "id": "ws7PmTiWiFU5",
        "colab_type": "code",
        "colab": {}
      },
      "source": [
        "def max_seq_length(tensor):\n",
        "    \"\"\"\n",
        "    Get maximum sequence length in the corpus. And, make sure that all rows in\n",
        "    `tensor` has the same length.\n",
        "    Arguments:\n",
        "      tensor: a NumPy ndarray of shape (batch_size,) where each row represents\n",
        "      indices mapping to words in equivalent sentences.\n",
        "    Returns:\n",
        "      max_len: an integer representing maximum sequence length.\n",
        "    \"\"\"\n",
        "    batch_size = len(tensor)\n",
        "    lengths = [len(sentence) for sentence in tensor]\n",
        "    max_len = max(lengths)\n",
        "\n",
        "    # check if all rows in `tensor` has the same length (equal to max_len)\n",
        "    assert lengths == [max_len]*batch_size\n",
        "\n",
        "    return max_len"
      ],
      "execution_count": 0,
      "outputs": []
    },
    {
      "cell_type": "code",
      "metadata": {
        "id": "PTO75I1diPXY",
        "colab_type": "code",
        "colab": {
          "base_uri": "https://localhost:8080/",
          "height": 51
        },
        "outputId": "9d955cb8-cfe6-454c-b5a9-183f1264bd4f"
      },
      "source": [
        "# Get max_seq_length of input and target tensors\n",
        "max_length_inp, max_length_targ = max_seq_length(X), max_seq_length(Y)\n",
        "print(f\"Maximum sequence length for input (questions) tensor: {max_length_inp}\")\n",
        "print(f\"Maximum sequence length for target (answers) tensor: {max_length_targ}\")"
      ],
      "execution_count": 25,
      "outputs": [
        {
          "output_type": "stream",
          "text": [
            "Maximum sequence length for input (questions) tensor: 15\n",
            "Maximum sequence length for target (answers) tensor: 15\n"
          ],
          "name": "stdout"
        }
      ]
    },
    {
      "cell_type": "code",
      "metadata": {
        "id": "jSiVJO3OiUPm",
        "colab_type": "code",
        "colab": {}
      },
      "source": [
        ""
      ],
      "execution_count": 0,
      "outputs": []
    },
    {
      "cell_type": "markdown",
      "metadata": {
        "id": "6gMmlLxxicY9",
        "colab_type": "text"
      },
      "source": [
        "Save the arrays as npy files:"
      ]
    },
    {
      "cell_type": "code",
      "metadata": {
        "id": "96GRRVEaieAO",
        "colab_type": "code",
        "colab": {}
      },
      "source": [
        "data_arrays_path = os.path.join(files_path, 'data_arrays')\n",
        "# create the folder if it does not exist\n",
        "if not os.path.exists(data_arrays_path):\n",
        "    os.makedirs(data_arrays_path)\n",
        "    \n",
        "np.save(os.path.join(data_arrays_path, 'X.npy'), X)\n",
        "np.save(os.path.join(data_arrays_path, 'Y.npy'), Y)"
      ],
      "execution_count": 0,
      "outputs": []
    },
    {
      "cell_type": "code",
      "metadata": {
        "id": "t26ox1stimTI",
        "colab_type": "code",
        "colab": {}
      },
      "source": [
        ""
      ],
      "execution_count": 0,
      "outputs": []
    },
    {
      "cell_type": "markdown",
      "metadata": {
        "id": "BrChK50xit92",
        "colab_type": "text"
      },
      "source": [
        "## Download GloVe Vectors"
      ]
    },
    {
      "cell_type": "code",
      "metadata": {
        "id": "pAVO4HqXiwkV",
        "colab_type": "code",
        "colab": {
          "base_uri": "https://localhost:8080/",
          "height": 357
        },
        "outputId": "948b18d3-f236-41c0-924f-2b803a5af0c7"
      },
      "source": [
        "!wget http://nlp.stanford.edu/data/glove.6B.zip"
      ],
      "execution_count": 27,
      "outputs": [
        {
          "output_type": "stream",
          "text": [
            "--2020-05-04 11:56:33--  http://nlp.stanford.edu/data/glove.6B.zip\n",
            "Resolving nlp.stanford.edu (nlp.stanford.edu)... 171.64.67.140\n",
            "Connecting to nlp.stanford.edu (nlp.stanford.edu)|171.64.67.140|:80... connected.\n",
            "HTTP request sent, awaiting response... 302 Found\n",
            "Location: https://nlp.stanford.edu/data/glove.6B.zip [following]\n",
            "--2020-05-04 11:56:33--  https://nlp.stanford.edu/data/glove.6B.zip\n",
            "Connecting to nlp.stanford.edu (nlp.stanford.edu)|171.64.67.140|:443... connected.\n",
            "HTTP request sent, awaiting response... 301 Moved Permanently\n",
            "Location: http://downloads.cs.stanford.edu/nlp/data/glove.6B.zip [following]\n",
            "--2020-05-04 11:56:33--  http://downloads.cs.stanford.edu/nlp/data/glove.6B.zip\n",
            "Resolving downloads.cs.stanford.edu (downloads.cs.stanford.edu)... 171.64.64.22\n",
            "Connecting to downloads.cs.stanford.edu (downloads.cs.stanford.edu)|171.64.64.22|:80... connected.\n",
            "HTTP request sent, awaiting response... 200 OK\n",
            "Length: 862182613 (822M) [application/zip]\n",
            "Saving to: ‘glove.6B.zip’\n",
            "\n",
            "glove.6B.zip        100%[===================>] 822.24M  2.01MB/s    in 6m 28s  \n",
            "\n",
            "2020-05-04 12:03:02 (2.12 MB/s) - ‘glove.6B.zip’ saved [862182613/862182613]\n",
            "\n"
          ],
          "name": "stdout"
        }
      ]
    },
    {
      "cell_type": "code",
      "metadata": {
        "id": "cMmiHhcgi3e2",
        "colab_type": "code",
        "colab": {
          "base_uri": "https://localhost:8080/",
          "height": 102
        },
        "outputId": "8263e4db-5c9c-4b95-8f3d-9ed599094869"
      },
      "source": [
        "!unzip glove.6B.zip"
      ],
      "execution_count": 28,
      "outputs": [
        {
          "output_type": "stream",
          "text": [
            "Archive:  glove.6B.zip\n",
            "  inflating: glove.6B.50d.txt        \n",
            "  inflating: glove.6B.100d.txt       \n",
            "  inflating: glove.6B.200d.txt       \n",
            "  inflating: glove.6B.300d.txt       \n"
          ],
          "name": "stdout"
        }
      ]
    },
    {
      "cell_type": "code",
      "metadata": {
        "id": "aZQoe-yfkiPV",
        "colab_type": "code",
        "colab": {
          "base_uri": "https://localhost:8080/",
          "height": 68
        },
        "outputId": "d3e30b2d-6673-4b75-d451-9a551ef059ae"
      },
      "source": [
        "!ls\n",
        "!pwd"
      ],
      "execution_count": 29,
      "outputs": [
        {
          "output_type": "stream",
          "text": [
            "bot.csv      glove.6B.100d.txt\tglove.6B.300d.txt  glove.6B.zip\n",
            "data_arrays  glove.6B.200d.txt\tglove.6B.50d.txt\n",
            "/content/path\n"
          ],
          "name": "stdout"
        }
      ]
    },
    {
      "cell_type": "code",
      "metadata": {
        "id": "FpIp-UAQk0zZ",
        "colab_type": "code",
        "colab": {}
      },
      "source": [
        ""
      ],
      "execution_count": 0,
      "outputs": []
    },
    {
      "cell_type": "markdown",
      "metadata": {
        "id": "_-2AijkUk928",
        "colab_type": "text"
      },
      "source": [
        "Read GloVe word embeddings into a word to vector dictionary:"
      ]
    },
    {
      "cell_type": "code",
      "metadata": {
        "id": "xGxxWZa5k_Hb",
        "colab_type": "code",
        "colab": {}
      },
      "source": [
        "def read_glove_vectors(glove_file):\n",
        "    \"\"\"\n",
        "    This function reads GloVe vectors from .txt file and \n",
        "    returns a word to vector dictionary.\n",
        "    Arguments:\n",
        "      glove_file: a string path to GloVe word embeddings file.\n",
        "    Returns:\n",
        "      word_to_vec: a Python dictionary that maps words to their embeddings.\n",
        "    \"\"\"\n",
        "\n",
        "    import numpy as np\n",
        "    \n",
        "    # open the file\n",
        "    with open(glove_file, 'r', encoding=\"utf-8\") as f:\n",
        "        \n",
        "        words = set()\n",
        "        word_to_vec = {}\n",
        "\n",
        "        # loop over the rows in the file\n",
        "        for line in f:\n",
        "            # read the line, strip it (remove leading and trailing spaces) and split it\n",
        "            line = line.strip().split()\n",
        "            # first item in the list 'line' is the word itself\n",
        "            curr_word = line[0]\n",
        "            # add the word to set of words\n",
        "            words.add(curr_word)\n",
        "            # add the words with its vector representation as a (key, value) pair to the dictionary\n",
        "            word_to_vec[curr_word] = np.array(line[1:], dtype=np.float64)\n",
        "\n",
        "    return word_to_vec"
      ],
      "execution_count": 0,
      "outputs": []
    },
    {
      "cell_type": "code",
      "metadata": {
        "id": "eDjDMXBRlHqM",
        "colab_type": "code",
        "colab": {}
      },
      "source": [
        "glove_file = \"/content/path/glove.6B.200d.txt\"\n",
        "word_to_vec = read_glove_vectors(glove_file)"
      ],
      "execution_count": 0,
      "outputs": []
    },
    {
      "cell_type": "code",
      "metadata": {
        "id": "KFIhMwqLlfcW",
        "colab_type": "code",
        "colab": {}
      },
      "source": [
        ""
      ],
      "execution_count": 0,
      "outputs": []
    },
    {
      "cell_type": "markdown",
      "metadata": {
        "id": "wu4RbVNgln5_",
        "colab_type": "text"
      },
      "source": [
        "# The Model\n",
        "Choosing Hyperparameters:"
      ]
    },
    {
      "cell_type": "code",
      "metadata": {
        "id": "qzHHwwLTlqmj",
        "colab_type": "code",
        "colab": {}
      },
      "source": [
        "BUFFER_SIZE = X.shape[0]\n",
        "BATCH_SIZE = 10\n",
        "steps_per_epoch = BUFFER_SIZE//BATCH_SIZE \n",
        "embedding_dim = 20\n",
        "units = 15 \n",
        "vocab_size = VOCAB_SIZE "
      ],
      "execution_count": 0,
      "outputs": []
    },
    {
      "cell_type": "code",
      "metadata": {
        "id": "6Q6SGvNBmCWF",
        "colab_type": "code",
        "colab": {
          "base_uri": "https://localhost:8080/",
          "height": 68
        },
        "outputId": "28a8ff08-2735-4076-84c6-138052ef9f78"
      },
      "source": [
        "print(f\"Buffer size: {BUFFER_SIZE}, Batch size: {BATCH_SIZE}, Steps per epoch: {steps_per_epoch}\")\n",
        "print(f\"Embedding size: {embedding_dim}, # of units: {units}\")\n",
        "print(f\"Vocab size: {vocab_size}\")"
      ],
      "execution_count": 53,
      "outputs": [
        {
          "output_type": "stream",
          "text": [
            "Buffer size: 25, Batch size: 10, Steps per epoch: 2\n",
            "Embedding size: 20, # of units: 15\n",
            "Vocab size: 25\n"
          ],
          "name": "stdout"
        }
      ]
    },
    {
      "cell_type": "code",
      "metadata": {
        "id": "mMs5ENdgmKT3",
        "colab_type": "code",
        "colab": {}
      },
      "source": [
        "# cache these values into the hyperparameters dictionary\n",
        "hyperparameters['buffer_size'] = BUFFER_SIZE\n",
        "hyperparameters['batch_size'] = BATCH_SIZE\n",
        "hyperparameters['steps_per_epoch'] = steps_per_epoch\n",
        "hyperparameters['embedding_dim'] = embedding_dim\n",
        "hyperparameters['units'] = units\n",
        "hyperparameters['vocab_size'] = vocab_size"
      ],
      "execution_count": 0,
      "outputs": []
    },
    {
      "cell_type": "code",
      "metadata": {
        "id": "g_Rg1CUkmWib",
        "colab_type": "code",
        "colab": {}
      },
      "source": [
        ""
      ],
      "execution_count": 0,
      "outputs": []
    },
    {
      "cell_type": "code",
      "metadata": {
        "id": "p-irtO98me1i",
        "colab_type": "code",
        "colab": {}
      },
      "source": [
        ""
      ],
      "execution_count": 0,
      "outputs": []
    },
    {
      "cell_type": "markdown",
      "metadata": {
        "id": "wTRInvLcmhvL",
        "colab_type": "text"
      },
      "source": [
        "Create the embedding matrix for words in the vocabulary:"
      ]
    },
    {
      "cell_type": "code",
      "metadata": {
        "id": "sHfFENfxmit5",
        "colab_type": "code",
        "colab": {}
      },
      "source": [
        "def create_embedding_matrix(words, word_to_vec, vocab_size, embedding_dim):\n",
        "  \"\"\"\n",
        "  Returns an embeddings matrix for the words in the vocabulary.\n",
        "  Arguments:\n",
        "      words: a list of words.\n",
        "      word_to_vec: a dictionary that maps words to their embedding vectors.\n",
        "      vocab_size: an integer which represents the size of the vocabulary.\n",
        "      emb_dim: an integer which represents the dimension of word embeddings.\n",
        "  Returns:\n",
        "      embedding_matrix: a NumPy array with shape of (vocab_size, emb_dim).\n",
        "  \"\"\"\n",
        "\n",
        "  # create embedding matrix\n",
        "  embedding_matrix = np.zeros((vocab_size, embedding_dim), dtype=np.float64)\n",
        "\n",
        "  # loop over the words in our vocabulary\n",
        "  for i, word in enumerate(words):\n",
        "    if word in word_to_vec.keys():\n",
        "      # if the current word is in glove vocab, get its glove vector.\n",
        "      embedding_matrix[i, :] = word_to_vec[word]\n",
        "    else:\n",
        "      # if the current word does not exist in the vocabulary, set its vector to zeros.\n",
        "      embedding_matrix[i, :] = np.zeros((embedding_dim,), dtype=np.float64)\n",
        "\n",
        "  return embedding_matrix"
      ],
      "execution_count": 0,
      "outputs": []
    },
    {
      "cell_type": "code",
      "metadata": {
        "id": "13VizqOempSO",
        "colab_type": "code",
        "colab": {}
      },
      "source": [
        "# since Tensorflow tokenizer word_index still have all words even when \n",
        "# vocab_size is passed while defining the Tokenizer. \n",
        "# So, we need to grab the first 10,000 words.\n",
        "words = list(text_tokenizer.word_index.keys())[:vocab_size]\n",
        "embedding_matrix = create_embedding_matrix(words, word_to_vec, vocab_size, \n",
        "                                           embedding_dim)"
      ],
      "execution_count": 0,
      "outputs": []
    },
    {
      "cell_type": "code",
      "metadata": {
        "id": "1CmdhrVEmvZ7",
        "colab_type": "code",
        "colab": {}
      },
      "source": [
        "word_to_vec.shape"
      ],
      "execution_count": 0,
      "outputs": []
    },
    {
      "cell_type": "code",
      "metadata": {
        "id": "pF9VoFnTx2UT",
        "colab_type": "code",
        "colab": {}
      },
      "source": [
        "word_to_vec"
      ],
      "execution_count": 0,
      "outputs": []
    },
    {
      "cell_type": "code",
      "metadata": {
        "id": "nD7IdPrtx5mZ",
        "colab_type": "code",
        "colab": {
          "base_uri": "https://localhost:8080/",
          "height": 34
        },
        "outputId": "23bc0bdf-bff5-409d-e275-b92145fca208"
      },
      "source": [
        "embedding_dim"
      ],
      "execution_count": 42,
      "outputs": [
        {
          "output_type": "execute_result",
          "data": {
            "text/plain": [
              "20"
            ]
          },
          "metadata": {
            "tags": []
          },
          "execution_count": 42
        }
      ]
    },
    {
      "cell_type": "code",
      "metadata": {
        "id": "RzXgOAswyqyq",
        "colab_type": "code",
        "colab": {}
      },
      "source": [
        "embedding_matrix"
      ],
      "execution_count": 0,
      "outputs": []
    },
    {
      "cell_type": "code",
      "metadata": {
        "id": "ZKq701ntyzNl",
        "colab_type": "code",
        "colab": {}
      },
      "source": [
        "curr_word"
      ],
      "execution_count": 0,
      "outputs": []
    },
    {
      "cell_type": "code",
      "metadata": {
        "id": "L8P27ApV4hXV",
        "colab_type": "code",
        "colab": {}
      },
      "source": [
        "words"
      ],
      "execution_count": 0,
      "outputs": []
    },
    {
      "cell_type": "code",
      "metadata": {
        "id": "Kpvlqnbj4k9g",
        "colab_type": "code",
        "colab": {}
      },
      "source": [
        "emb_dim"
      ],
      "execution_count": 0,
      "outputs": []
    },
    {
      "cell_type": "code",
      "metadata": {
        "id": "8jMDZIDX62NK",
        "colab_type": "code",
        "colab": {}
      },
      "source": [
        ""
      ],
      "execution_count": 0,
      "outputs": []
    },
    {
      "cell_type": "markdown",
      "metadata": {
        "id": "PoeXuFzilcxL",
        "colab_type": "text"
      },
      "source": [
        "Create a tf.data dataset for X and Y with buffer size equal to BUFFER_SIZE and batch size equal to BATCH_SIZE, we will use this dataset to generate batches while training:"
      ]
    },
    {
      "cell_type": "code",
      "metadata": {
        "id": "4mIGJ_fnleD5",
        "colab_type": "code",
        "colab": {}
      },
      "source": [
        "dataset = tf.data.Dataset.from_tensor_slices((X, Y)).shuffle(BUFFER_SIZE)\n",
        "dataset = dataset.batch(BATCH_SIZE)"
      ],
      "execution_count": 0,
      "outputs": []
    },
    {
      "cell_type": "code",
      "metadata": {
        "id": "wxQUrSbrlle2",
        "colab_type": "code",
        "colab": {}
      },
      "source": [
        ""
      ],
      "execution_count": 0,
      "outputs": []
    },
    {
      "cell_type": "markdown",
      "metadata": {
        "id": "Z46cJuxmlvSC",
        "colab_type": "text"
      },
      "source": [
        "Example of an input batch that the model will receive while iterating over dataset batches:"
      ]
    },
    {
      "cell_type": "code",
      "metadata": {
        "id": "SlJfBG8TlwXV",
        "colab_type": "code",
        "colab": {
          "base_uri": "https://localhost:8080/",
          "height": 34
        },
        "outputId": "0a2e7d2b-9502-445c-8449-c07d19776d5e"
      },
      "source": [
        "example_input_batch, example_target_batch = next(iter(dataset))\n",
        "example_input_batch.shape, example_target_batch.shape"
      ],
      "execution_count": 68,
      "outputs": [
        {
          "output_type": "execute_result",
          "data": {
            "text/plain": [
              "(TensorShape([10, 15]), TensorShape([10, 15]))"
            ]
          },
          "metadata": {
            "tags": []
          },
          "execution_count": 68
        }
      ]
    },
    {
      "cell_type": "code",
      "metadata": {
        "id": "Qs2MwI67l2Je",
        "colab_type": "code",
        "colab": {}
      },
      "source": [
        ""
      ],
      "execution_count": 0,
      "outputs": []
    },
    {
      "cell_type": "markdown",
      "metadata": {
        "id": "aRHPG9RrtHBC",
        "colab_type": "text"
      },
      "source": [
        "## Model Architecture"
      ]
    },
    {
      "cell_type": "code",
      "metadata": {
        "id": "fB8eU1UctJRl",
        "colab_type": "code",
        "colab": {}
      },
      "source": [
        ""
      ],
      "execution_count": 0,
      "outputs": []
    },
    {
      "cell_type": "markdown",
      "metadata": {
        "id": "gXBne1AttOqn",
        "colab_type": "text"
      },
      "source": [
        "I'm going to use an encoder-decoder model with Bahdanau's attention, which has been described in detail in this paper:\n",
        "\n",
        "Effective Approaches to Attention-based Neural Machine Translation\n",
        "\n",
        "Some properties of the model:\n",
        "\n",
        "The encoder will be a bidirectional encoder with 512 hidden units for each direction, resulting in 1024 cells.\n",
        "\n",
        "Both encoder & decoder will use LSTM as the cell.\n",
        "\n",
        "The decoder will be unidirectional with 1024 hidden units."
      ]
    },
    {
      "cell_type": "code",
      "metadata": {
        "id": "eats4TZetPm0",
        "colab_type": "code",
        "colab": {}
      },
      "source": [
        ""
      ],
      "execution_count": 0,
      "outputs": []
    },
    {
      "cell_type": "markdown",
      "metadata": {
        "id": "OZSY8jX6tbJT",
        "colab_type": "text"
      },
      "source": [
        "## The Encoder"
      ]
    },
    {
      "cell_type": "code",
      "metadata": {
        "id": "j8limwpotc3Y",
        "colab_type": "code",
        "colab": {}
      },
      "source": [
        ""
      ],
      "execution_count": 0,
      "outputs": []
    },
    {
      "cell_type": "markdown",
      "metadata": {
        "id": "JyBY0u_TtjZE",
        "colab_type": "text"
      },
      "source": [
        "Define the bidirectional encoder architecture which will consist of the following:\n",
        "\n",
        "An Embedding layer that will map input sentences to their embeddings. The vocabulary size is equal to VOCAB_SIZE=10,000 and the dimension of embedding is 200 (Note: although a power of 2 embedding size would be more suitable to speed up training time by increasing cache utilization during data movement, thus reducing bottlenecks, but GloVe embeddings do not come with a power of 2 embedding size).\n",
        "\n",
        "A forward & backward (bidirectional) LSTM layer with 512 units for each.\n",
        "\n",
        "The input to the encoder has a shape of (batch_size, ), which is the input array of sentences (questions).\n",
        "\n",
        "The hidden state arrays of the encoder are all of the shape (batch_size, n_units).\n",
        "\n",
        "The output of the encoder has a shape of (batch_size, max_sequence_length, n_units x2) ;the hidden size of the output is equal to double the size of units since the encoder is bidirectional."
      ]
    },
    {
      "cell_type": "code",
      "metadata": {
        "id": "u4Ina7rltktX",
        "colab_type": "code",
        "colab": {}
      },
      "source": [
        "class Encoder(tf.keras.Model):\n",
        "\n",
        "    def __init__(self, vocab_size, embedding_dim, enc_units, \n",
        "                 batch_sz):\n",
        "        super(Encoder, self).__init__()\n",
        "        self.batch_sz = batch_sz\n",
        "        self.enc_units = enc_units\n",
        "        self.embedding = tf.keras.layers.Embedding(vocab_size, embedding_dim, \n",
        "                                                   trainable=True)\n",
        "        self.bi_lstm = tf.keras.layers.Bidirectional(tf.keras.layers.LSTM(self.enc_units,\n",
        "                                       return_sequences=True,\n",
        "                                       return_state=True,\n",
        "                                       recurrent_initializer='glorot_uniform'))\n",
        "\n",
        "    def call(self, x, hidden):\n",
        "        \"\"\"\n",
        "        Propogates the input `x` through the bidirectional encoder and returns\n",
        "        the outputs along with hidden states.\n",
        "        Arguments:\n",
        "            x: a tensor with shape (batch_size, max_seq_length)\n",
        "            hidden: a tuple or a list, with four tensors representing hidden\n",
        "                    and memory states for both the forward and backward LSTMs.\n",
        "                    Each of them having a shape of (batch_size, max_seq_length)\n",
        "        Returns:\n",
        "            output: a tensor representing the output of the encoder with a shape\n",
        "                    of (batch size, max_sequence length, units*2)\n",
        "            state_h: a tensor, with forward and backward hidden states of \n",
        "                     the encoder with a shape of (batch size, units*2)\n",
        "            state_c: a tensor, with forward and backward memory cell states of\n",
        "                     the encoder with a shape of (batch size, units*2)\n",
        "        \"\"\"\n",
        "        x = self.embedding(x)\n",
        "\n",
        "        output, fstate_h, fstate_c, bstate_h, bstate_c = self.bi_lstm(x, initial_state = hidden)\n",
        "\n",
        "        state_h = tf.keras.layers.Concatenate()([fstate_h, bstate_h])\n",
        "        state_c = tf.keras.layers.Concatenate()([fstate_c, bstate_c])\n",
        "\n",
        "        return output, state_h, state_c\n",
        "\n",
        "    def initialize_hidden_state(self):\n",
        "        # forward_state_h forward hidden state output, backward_state_h backward hidden state output\n",
        "        # forward_state_c forward cell (memory) state output, backward_state_c backward cell (memory) state output\n",
        "        return (tf.zeros((self.batch_sz, self.enc_units)), tf.zeros((self.batch_sz, self.enc_units)), \n",
        "                tf.zeros((self.batch_sz, self.enc_units)), tf.zeros((self.batch_sz, self.enc_units)))"
      ],
      "execution_count": 0,
      "outputs": []
    },
    {
      "cell_type": "code",
      "metadata": {
        "id": "o4CKdlLkvdmt",
        "colab_type": "code",
        "colab": {}
      },
      "source": [
        ""
      ],
      "execution_count": 0,
      "outputs": []
    },
    {
      "cell_type": "markdown",
      "metadata": {
        "id": "9DKJqZB2vjY-",
        "colab_type": "text"
      },
      "source": [
        "Define the encoder:"
      ]
    },
    {
      "cell_type": "code",
      "metadata": {
        "id": "r_Y6gW3ovkaf",
        "colab_type": "code",
        "colab": {
          "base_uri": "https://localhost:8080/",
          "height": 68
        },
        "outputId": "9538ecae-3e8b-4daa-9d7f-fdcbd5e4ee27"
      },
      "source": [
        "encoder = Encoder(vocab_size, embedding_dim, units, \n",
        "                  BATCH_SIZE)\n",
        "\n",
        "# usage example\n",
        "sample_hidden = encoder.initialize_hidden_state()\n",
        "\n",
        "sample_output, sample_h, sample_c = encoder(example_input_batch, sample_hidden)\n",
        "print (f'Encoder output shape: (batch size, sequence length, units*2) {sample_output.shape}')\n",
        "print (f'Encoder Hidden state shape: (batch size, units*2) {sample_h.shape}')\n",
        "print (f'Encoder Memory state shape: (batch size, units*2) {sample_c.shape}')"
      ],
      "execution_count": 74,
      "outputs": [
        {
          "output_type": "stream",
          "text": [
            "Encoder output shape: (batch size, sequence length, units*2) (10, 15, 30)\n",
            "Encoder Hidden state shape: (batch size, units*2) (10, 30)\n",
            "Encoder Memory state shape: (batch size, units*2) (10, 30)\n"
          ],
          "name": "stdout"
        }
      ]
    },
    {
      "cell_type": "code",
      "metadata": {
        "id": "UbcwxplnvsCU",
        "colab_type": "code",
        "colab": {}
      },
      "source": [
        ""
      ],
      "execution_count": 0,
      "outputs": []
    },
    {
      "cell_type": "markdown",
      "metadata": {
        "id": "FfkaFnIfw8R1",
        "colab_type": "text"
      },
      "source": [
        "# Bahdanau Attention Mechanism"
      ]
    },
    {
      "cell_type": "code",
      "metadata": {
        "id": "64xWKXSXw-wv",
        "colab_type": "code",
        "colab": {}
      },
      "source": [
        "class BahdanauAttention(tf.keras.layers.Layer):\n",
        "  \n",
        "    def __init__(self, units):\n",
        "        super(BahdanauAttention, self).__init__()\n",
        "        self.W1 = tf.keras.layers.Dense(units*2)\n",
        "        self.W2 = tf.keras.layers.Dense(units*2)\n",
        "        self.V = tf.keras.layers.Dense(1)\n",
        "\n",
        "    def call(self, query, values):\n",
        "        # query hidden state shape == (batch_size, hidden size)\n",
        "        # query_with_time_axis shape == (batch_size, 1, hidden size)\n",
        "        # values shape == (batch_size, max_len, hidden size)\n",
        "        query_with_time_axis = tf.expand_dims(query, 1)\n",
        "        \n",
        "        # score shape == (batch_size, max_length, 1)\n",
        "        # we get 1 at the last axis because we are applying score to self.V\n",
        "        # the shape of the tensor before applying self.V is (batch_size, max_length, units)\n",
        "        score = self.V(tf.nn.tanh(\n",
        "            self.W1(query_with_time_axis) + self.W2(values)))\n",
        "\n",
        "        # attention_weights shape == (batch_size, max_length, 1)\n",
        "        attention_weights = tf.nn.softmax(score, axis=1)\n",
        "\n",
        "        # context_vector shape after sum == (batch_size, hidden_size)\n",
        "        context_vector = attention_weights * values\n",
        "        context_vector = tf.reduce_sum(context_vector, axis=1)\n",
        "\n",
        "        return context_vector, attention_weights"
      ],
      "execution_count": 0,
      "outputs": []
    },
    {
      "cell_type": "code",
      "metadata": {
        "id": "NuUCQ37szVOI",
        "colab_type": "code",
        "colab": {}
      },
      "source": [
        ""
      ],
      "execution_count": 0,
      "outputs": []
    },
    {
      "cell_type": "markdown",
      "metadata": {
        "id": "zaZ7gVFlzcSw",
        "colab_type": "text"
      },
      "source": [
        "Example of using Bahdanau's attention:"
      ]
    },
    {
      "cell_type": "code",
      "metadata": {
        "id": "NBc1YkaQzdYH",
        "colab_type": "code",
        "colab": {
          "base_uri": "https://localhost:8080/",
          "height": 51
        },
        "outputId": "8d60b95d-f41c-468b-8c5c-bf4bd3824ecf"
      },
      "source": [
        "# usage example\n",
        "attention_layer = BahdanauAttention(10)\n",
        "attention_result, attention_weights = attention_layer(sample_h, sample_output)\n",
        "\n",
        "print(f\"Attention result shape: (batch size, units*2) {attention_result.shape}\")\n",
        "print(f\"Attention weights shape: (batch_size, sequence_length, 1) {attention_weights.shape}\")"
      ],
      "execution_count": 76,
      "outputs": [
        {
          "output_type": "stream",
          "text": [
            "Attention result shape: (batch size, units*2) (10, 30)\n",
            "Attention weights shape: (batch_size, sequence_length, 1) (10, 15, 1)\n"
          ],
          "name": "stdout"
        }
      ]
    },
    {
      "cell_type": "markdown",
      "metadata": {
        "id": "b50zi2n4zwBU",
        "colab_type": "text"
      },
      "source": [
        "## The Decoder"
      ]
    },
    {
      "cell_type": "markdown",
      "metadata": {
        "id": "tabTvjPQz6Ha",
        "colab_type": "text"
      },
      "source": [
        "Define the decoder architecture which will consist of the following:\n",
        "\n",
        "Bahdanau's attention which is applied to the output of the encoder to get the context which will be passed, along with the embeddings of the decoder input, to the LSTM layer of the decoder.\n",
        "\n",
        "An Embedding layer with a vocabulary size of VOCAB_SIZE=10,000 words and an embedding dimension of 200. The embedding takes the decoder input which is of the shape (batch_size, ) and outputs a tensor of the shape (batch_size, 1, embedding_dim).\n",
        "\n",
        "A forward (unidirectional) LSTM layer with 1024 units for each.\n",
        "\n",
        "The shape of the decoder's output is (batch_size, vocab_size) and the decoder hidden state size is of the shape (batch_size, units x2)."
      ]
    },
    {
      "cell_type": "code",
      "metadata": {
        "id": "4PEr7pF9z7Hu",
        "colab_type": "code",
        "colab": {}
      },
      "source": [
        "class Decoder(tf.keras.Model):\n",
        "\n",
        "    def __init__(self, vocab_size, embedding_dim, dec_units, \n",
        "                 batch_sz):\n",
        "        super(Decoder, self).__init__()\n",
        "        self.batch_sz = batch_sz\n",
        "        self.dec_units = dec_units\n",
        "        self.embedding = tf.keras.layers.Embedding(vocab_size, embedding_dim,\n",
        "                                                   trainable=True)\n",
        "        self.lstm = tf.keras.layers.LSTM(self.dec_units,\n",
        "                                       return_sequences=True,\n",
        "                                       return_state=True,\n",
        "                                       recurrent_initializer='glorot_uniform')\n",
        "        \n",
        "        self.fc = tf.keras.layers.Dense(vocab_size)\n",
        "\n",
        "        self.attention = BahdanauAttention(self.dec_units)\n",
        "\n",
        "    def call(self, x, hidden, enc_output):\n",
        "        \"\"\"\n",
        "        Takes decoder input, hidden state and output of the encoder and\n",
        "        returns the decoder's predictions along with decoder hidden state and\n",
        "        attention weights.\n",
        "        Arguments:\n",
        "            x: a tensor with shape (batch_size, 1) which is the decoder input\n",
        "               at some timestep.\n",
        "            hidden: a tensor representing hidden state of the encoder with a\n",
        "                    shape of (batch size, units*2)\n",
        "            enc_output: a tensor representing the encoder's output with a shape\n",
        "                        of (batch size, sequence length, units*2)\n",
        "                        Returns:\n",
        "            x: a tensor with shape (batch_size, vocab size) and it's decoder's\n",
        "               output.\n",
        "            state: a tensor that represents the hidden state of the decoder \n",
        "                   and has a shape of (batch_size, units*2)\n",
        "            attention_weights: a tensor that represents attention weights and \n",
        "                               has a shape of (batch_size, sequence_length, 1)\n",
        "        \"\"\"\n",
        "\n",
        "\n",
        "        # enc_output shape == (batch_size, max_length, hidden_size)\n",
        "        context_vector, attention_weights = self.attention(hidden, enc_output)\n",
        "        \n",
        "        # x shape after passing through embedding == (batch_size, 1, embedding_dim)\n",
        "        x = self.embedding(x)\n",
        "\n",
        "        # x shape after concatenation == (batch_size, 1, embedding_dim + hidden_size)\n",
        "        x = tf.concat([tf.expand_dims(context_vector, 1), x], axis=-1)\n",
        "        \n",
        "        # passing the concatenated vector to the LSTM\n",
        "        output, state_h, state_c = self.lstm(x)\n",
        "        state = state_h\n",
        "\n",
        "        # output shape == (batch_size * 1, hidden_size)\n",
        "        output = tf.reshape(output, (-1, output.shape[2]))\n",
        "\n",
        "        # output shape == (batch_size, vocab)\n",
        "        x = self.fc(output)\n",
        "\n",
        "        return x, state, attention_weights"
      ],
      "execution_count": 0,
      "outputs": []
    },
    {
      "cell_type": "code",
      "metadata": {
        "id": "ZKascqpN1PGh",
        "colab_type": "code",
        "colab": {}
      },
      "source": [
        ""
      ],
      "execution_count": 0,
      "outputs": []
    },
    {
      "cell_type": "markdown",
      "metadata": {
        "id": "W3ReEqRh1VV-",
        "colab_type": "text"
      },
      "source": [
        "Define the decoder:"
      ]
    },
    {
      "cell_type": "code",
      "metadata": {
        "id": "8VHJD2o_1WtL",
        "colab_type": "code",
        "colab": {
          "base_uri": "https://localhost:8080/",
          "height": 51
        },
        "outputId": "f6842531-5be1-4f3f-f661-787a6a82b8d2"
      },
      "source": [
        "decoder = Decoder(vocab_size, embedding_dim, units*2, \n",
        "                  BATCH_SIZE)\n",
        "\n",
        "# usage example\n",
        "sample_decoder_output, dec_h, _ = decoder(tf.random.uniform((BATCH_SIZE, 1)),\n",
        "                                      sample_h, sample_output)\n",
        "\n",
        "print(f'Decoder output shape: (batch_size, vocab size) {sample_decoder_output.shape}')\n",
        "print(f'Decoder hidden state shape: (batch_size, units*2) {dec_h.shape}')"
      ],
      "execution_count": 80,
      "outputs": [
        {
          "output_type": "stream",
          "text": [
            "Decoder output shape: (batch_size, vocab size) (10, 25)\n",
            "Decoder hidden state shape: (batch_size, units*2) (10, 30)\n"
          ],
          "name": "stdout"
        }
      ]
    },
    {
      "cell_type": "code",
      "metadata": {
        "id": "vrrmvodC1183",
        "colab_type": "code",
        "colab": {}
      },
      "source": [
        ""
      ],
      "execution_count": 0,
      "outputs": []
    },
    {
      "cell_type": "markdown",
      "metadata": {
        "id": "1XPc8Zp714c3",
        "colab_type": "text"
      },
      "source": [
        "## Defining Optimizer, Loss Function and Metric"
      ]
    },
    {
      "cell_type": "code",
      "metadata": {
        "id": "xj_tkb5Y16Zl",
        "colab_type": "code",
        "colab": {}
      },
      "source": [
        ""
      ],
      "execution_count": 0,
      "outputs": []
    },
    {
      "cell_type": "markdown",
      "metadata": {
        "id": "9ARCY--L1_5l",
        "colab_type": "text"
      },
      "source": [
        "Define the loss function:"
      ]
    },
    {
      "cell_type": "code",
      "metadata": {
        "id": "UeUx6NP62A6v",
        "colab_type": "code",
        "colab": {}
      },
      "source": [
        "optimizer = tf.keras.optimizers.Adam()\n",
        "loss_object = tf.keras.losses.SparseCategoricalCrossentropy(from_logits=True, \n",
        "                                                            reduction='none')\n",
        "\n",
        "def compute_loss(real, pred):\n",
        "    \"\"\"\n",
        "    This function returns the loss for model's predictions on a batch \n",
        "    of data in comparison with the real outputs at a timestep.\n",
        "    Arguments:\n",
        "        real: real output, a Tensorflow tensor with a shape \n",
        "              of: (batch_size, max_seq_length)\n",
        "        pred: model's predictions at a certain timestep, a Tensorflow tensor \n",
        "              with a shape of: (batch_size, max_seq_length)\n",
        "    Returns:\n",
        "        A Tensorflow tensor with the loss.\n",
        "    \"\"\"\n",
        "\n",
        "    mask = tf.math.logical_not(tf.math.equal(real, 0))\n",
        "    loss_ = loss_object(real, pred)\n",
        "    mask = tf.cast(mask, dtype=loss_.dtype)\n",
        "    loss_ *= mask\n",
        "    \n",
        "    return tf.reduce_mean(loss_)"
      ],
      "execution_count": 0,
      "outputs": []
    },
    {
      "cell_type": "code",
      "metadata": {
        "id": "V_BAgE0d2aAD",
        "colab_type": "code",
        "colab": {}
      },
      "source": [
        ""
      ],
      "execution_count": 0,
      "outputs": []
    },
    {
      "cell_type": "markdown",
      "metadata": {
        "id": "xklszAUt2goD",
        "colab_type": "text"
      },
      "source": [
        "Define the perplexity metric:\n",
        "\n",
        "**Note**: I was going to incorporate BLEU score as another metric, but to compute BLEU score on a batch of data, it turns out that we need access the data to count the number of n-grams. In order to do that, we can't use Tensorflow's AutoGraph feature tf.function. Anyways, I tried it and using tf.function was around 2.5 times faster than dropping this feature only to compute BLEU score. In case you want to use BLEU score, you can use nmt's open source implementation which you can find here, or you can use NLTK's implementation."
      ]
    },
    {
      "cell_type": "code",
      "metadata": {
        "id": "ZYOBRP--2j7q",
        "colab_type": "code",
        "colab": {}
      },
      "source": [
        "def compute_perplexity(real, pred):\n",
        "    \"\"\"\n",
        "    This function returns the perplexity for model's predictions on a batch \n",
        "    of data in comparison with the real outputs at a timestep.\n",
        "    Arguments:\n",
        "        real: real output, a Tensorflow tensor with a shape \n",
        "              of: (batch_size, max_seq_length)\n",
        "        pred: model's predictions at a certain timestep, a Tensorflow tensor \n",
        "              with a shape of: (batch_size, max_seq_length)\n",
        "    Returns:\n",
        "        A Tensorflow tensor with the perplexity.\n",
        "    \"\"\"\n",
        "    \n",
        "    mask = tf.math.logical_not(tf.math.equal(real, 0))\n",
        "    loss_ = loss_object(real, pred)\n",
        "    mask = tf.cast(mask, dtype=loss_.dtype)\n",
        "    loss_ *= mask\n",
        "    \n",
        "    return tf.cast(tf.pow(math.e, tf.keras.backend.mean(loss_, axis=-1)), \n",
        "                   dtype=tf.keras.backend.floatx())"
      ],
      "execution_count": 0,
      "outputs": []
    },
    {
      "cell_type": "code",
      "metadata": {
        "id": "kxXgmtY25B_N",
        "colab_type": "code",
        "colab": {}
      },
      "source": [
        ""
      ],
      "execution_count": 0,
      "outputs": []
    },
    {
      "cell_type": "markdown",
      "metadata": {
        "id": "88TeHgzL5Jks",
        "colab_type": "text"
      },
      "source": [
        "# Checkpoints (Object-based saving)"
      ]
    },
    {
      "cell_type": "code",
      "metadata": {
        "id": "P1zIAor85LiL",
        "colab_type": "code",
        "colab": {}
      },
      "source": [
        "checkpoint_dir = '/content/path/training_checkpoints'\n",
        "\n",
        "# create the folder if it does not exist\n",
        "if not os.path.exists(checkpoint_dir):\n",
        "    os.makedirs(checkpoint_dir)\n",
        "\n",
        "checkpoint_prefix = os.path.join(checkpoint_dir, \"ckpt\")\n",
        "checkpoint = tf.train.Checkpoint(optimizer=optimizer,\n",
        "                                 encoder=encoder,\n",
        "                                 decoder=decoder)"
      ],
      "execution_count": 0,
      "outputs": []
    },
    {
      "cell_type": "code",
      "metadata": {
        "id": "HjhzJj1H5q89",
        "colab_type": "code",
        "colab": {}
      },
      "source": [
        ""
      ],
      "execution_count": 0,
      "outputs": []
    },
    {
      "cell_type": "markdown",
      "metadata": {
        "id": "b2wBCMgq5y7A",
        "colab_type": "text"
      },
      "source": [
        "# TensorBoard"
      ]
    },
    {
      "cell_type": "code",
      "metadata": {
        "id": "WKEDwdM750iU",
        "colab_type": "code",
        "colab": {
          "base_uri": "https://localhost:8080/",
          "height": 51
        },
        "outputId": "5e04bced-9366-44fe-eedc-62472f18beb0"
      },
      "source": [
        "# Load the TensorBoard notebook extension\n",
        "%load_ext tensorboard"
      ],
      "execution_count": 85,
      "outputs": [
        {
          "output_type": "stream",
          "text": [
            "The tensorboard extension is already loaded. To reload it, use:\n",
            "  %reload_ext tensorboard\n"
          ],
          "name": "stdout"
        }
      ]
    },
    {
      "cell_type": "code",
      "metadata": {
        "id": "MEYxOpxq6La9",
        "colab_type": "code",
        "colab": {}
      },
      "source": [
        "log_file_name =f\"/content/path/chatbot/logs/metrics_{int(time.time())}\"\n",
        "\n",
        "# create the folder if it does not exist\n",
        "if not os.path.exists(log_file_name):\n",
        "    os.makedirs(log_file_name)\n",
        "    \n",
        "summary_writer = tf.summary.create_file_writer(log_file_name)"
      ],
      "execution_count": 0,
      "outputs": []
    },
    {
      "cell_type": "code",
      "metadata": {
        "id": "6r3YkyX86g95",
        "colab_type": "code",
        "colab": {}
      },
      "source": [
        ""
      ],
      "execution_count": 0,
      "outputs": []
    },
    {
      "cell_type": "markdown",
      "metadata": {
        "id": "8gQV4x9z6mYC",
        "colab_type": "text"
      },
      "source": [
        "# Define training step:"
      ]
    },
    {
      "cell_type": "code",
      "metadata": {
        "id": "SS0gOYqg6oBk",
        "colab_type": "code",
        "colab": {}
      },
      "source": [
        "@tf.function\n",
        "def train_step(inp, targ, enc_hidden):\n",
        "    \"\"\"\n",
        "    This function performs a training step for the model on a batch of data.\n",
        "    Arguments:\n",
        "        inp: a tensor, the input to the encoder network which is a batch of \n",
        "              vectors of integers (indices of words) for sentences (questions) \n",
        "              with a shape of (batch_size, encoder_max_seq_len)\n",
        "        targ: a tensor, the real output that the decoder will use to learn \n",
        "              using teacher forcing. It has a shape same as `inp`\n",
        "              which is (batch_size, encoder_max_seq_len)\n",
        "        enc_hidden: a tuple of four tensors, the initial hidden states for the\n",
        "              encoder network, each of the shape (batch_size, n_units*2)\n",
        "    Returns:\n",
        "        batch_loss: loss for the given batch.\n",
        "        batch_acc: accuracy for the given batch.\n",
        "        batch_bleu: bleu score for the given batch.\n",
        "        batch_ppl: perplexity for the given batch.\n",
        "    \"\"\"\n",
        "    \n",
        "    loss = 0\n",
        "    ppl = 0\n",
        "\n",
        "    with tf.GradientTape() as tape:\n",
        "        # Run the input through the encoder and get back the encoder output\n",
        "        # and the hidden states of the encoder.\n",
        "        enc_output, enc_h, enc_c = encoder(inp, enc_hidden)\n",
        "        \n",
        "        # Set the hidden state of the encoder to be the initial hidden state\n",
        "        # of the decoder.\n",
        "        dec_hidden = enc_h\n",
        "\n",
        "        # Define the decoder input which is basically the '<start>' token,\n",
        "        # for every sentence in the batch.\n",
        "        dec_input = tf.expand_dims([text_tokenizer.word_index['<start>']] \n",
        "                                   * BATCH_SIZE, 1)\n",
        "        \n",
        "        # Teacher forcing - feeding the target as the next input\n",
        "        # looping over timesteps\n",
        "        for t in range(1, targ.shape[1]):\n",
        "\n",
        "            # Pass encoder output to the decoder along with the decoder\n",
        "            # input and initial hidden state and get back the predictions\n",
        "            # for this batch at the current timestep with the hidden state \n",
        "            # of the decoder\n",
        "            predictions, dec_hidden, _ = decoder(dec_input, \n",
        "                                                 dec_hidden, \n",
        "                                                 enc_output)\n",
        "            # predictions shape: (batch_size, decoder_vocab_size)\n",
        "            # dec_hidden shape: (batch_size, units*2)\n",
        "            # attention weights (3rd output that has been discarded) \n",
        "            # shape: (batch_size, decoder_max_seq_len, 1)\n",
        "\n",
        "            # compute the loss\n",
        "            loss += compute_loss(targ[:, t], predictions)\n",
        "\n",
        "            # compute the perplexity\n",
        "            ppl += compute_perplexity(targ[:, t], predictions)\n",
        "\n",
        "            # using teacher forcing\n",
        "            dec_input = tf.expand_dims(targ[:, t], 1)\n",
        "\n",
        "    # compute the loss for the batch\n",
        "    batch_loss = (loss / int(targ.shape[1]))\n",
        "    \n",
        "    # compute the perplexity for the batch\n",
        "    batch_ppl = (ppl / int(targ.shape[1]))\n",
        "    variables = encoder.trainable_variables + decoder.trainable_variables\n",
        "\n",
        "    # get gradients\n",
        "    gradients = tape.gradient(loss, variables)\n",
        "\n",
        "    optimizer.apply_gradients(zip(gradients, variables))\n",
        "\n",
        "    return batch_loss, batch_ppl"
      ],
      "execution_count": 0,
      "outputs": []
    },
    {
      "cell_type": "code",
      "metadata": {
        "id": "gPorzX-a9hIs",
        "colab_type": "code",
        "colab": {}
      },
      "source": [
        "# Nicely formatted time string\n",
        "def hms_string(sec_elapsed):\n",
        "    h = int(sec_elapsed / (60 * 60))\n",
        "    m = int((sec_elapsed % (60 * 60)) / 60)\n",
        "    s = sec_elapsed % 60\n",
        "    return f\"{h}:{m}:{round(s,1)}\""
      ],
      "execution_count": 0,
      "outputs": []
    },
    {
      "cell_type": "code",
      "metadata": {
        "id": "DVTJQ7Pr9qwa",
        "colab_type": "code",
        "colab": {}
      },
      "source": [
        ""
      ],
      "execution_count": 0,
      "outputs": []
    },
    {
      "cell_type": "markdown",
      "metadata": {
        "id": "j60ZMrdy9wtE",
        "colab_type": "text"
      },
      "source": [
        "## Training the model:"
      ]
    },
    {
      "cell_type": "code",
      "metadata": {
        "id": "XlMTloRX9yoT",
        "colab_type": "code",
        "colab": {
          "base_uri": "https://localhost:8080/",
          "height": 34
        },
        "outputId": "80284929-0160-4332-c09c-53e16e5cf3f9"
      },
      "source": [
        "print(hyperparameters)"
      ],
      "execution_count": 90,
      "outputs": [
        {
          "output_type": "stream",
          "text": [
            "{'buffer_size': 25, 'batch_size': 10, 'steps_per_epoch': 2, 'embedding_dim': 20, 'units': 15, 'vocab_size': 25}\n"
          ],
          "name": "stdout"
        }
      ]
    },
    {
      "cell_type": "code",
      "metadata": {
        "id": "DaIriyGx948p",
        "colab_type": "code",
        "colab": {}
      },
      "source": [
        ""
      ],
      "execution_count": 0,
      "outputs": []
    },
    {
      "cell_type": "markdown",
      "metadata": {
        "id": "OWOAcrLh-B18",
        "colab_type": "text"
      },
      "source": [
        "Let's train the model:"
      ]
    },
    {
      "cell_type": "code",
      "metadata": {
        "id": "3FGAhGnW-C_V",
        "colab_type": "code",
        "colab": {
          "base_uri": "https://localhost:8080/",
          "height": 1000
        },
        "outputId": "ae4b50c1-29d4-4891-8155-b9c8d83276d2"
      },
      "source": [
        "EPOCHS = 30\n",
        "\n",
        "start_time = time.time()\n",
        "\n",
        "# to cache loss and perlexity over epochs\n",
        "cache = dict({'train_loss': [], 'train_ppl':[]})\n",
        "\n",
        "with tf.device('/device:GPU:0'):\n",
        "    for epoch in range(EPOCHS):\n",
        "        start_epoch = time.time()\n",
        "\n",
        "        # Initialize encoder hidden state\n",
        "        enc_hidden = encoder.initialize_hidden_state()\n",
        "\n",
        "        total_loss = 0\n",
        "        total_ppl = 0\n",
        "        \n",
        "        # Training the model using the training data\n",
        "        for (batch, (inp, targ)) in enumerate(dataset.take(steps_per_epoch)):\n",
        "            \n",
        "            # Train the model on current batch\n",
        "            (batch_loss, batch_ppl) = train_step(inp, targ, enc_hidden)\n",
        "\n",
        "            total_loss += batch_loss\n",
        "            total_ppl += batch_ppl  \n",
        "\n",
        "            # print loss and perplexity for current batch\n",
        "            if batch % 400 == 0:\n",
        "                print(f\"Epoch {epoch + 1}/{EPOCHS} - \"\n",
        "                      f\"batch: {batch}/{steps_per_epoch} - \"\n",
        "                      f\"loss: {batch_loss.numpy()} - ppl: {batch_ppl}\")\n",
        "        \n",
        "        # compute batch loss and perplexity\n",
        "        total_loss = total_loss / steps_per_epoch\n",
        "        total_ppl = total_ppl / steps_per_epoch     \n",
        "\n",
        "        # Log loss and perplexity to TensorBoard for current epoch\n",
        "        with summary_writer.as_default():\n",
        "          tf.summary.scalar('training_loss', total_loss, step=epoch)\n",
        "          tf.summary.scalar('training_perplexity', total_ppl, step=epoch)\n",
        "\n",
        "        # Save (checkpoint) the model every 15 epochs\n",
        "        if ((epoch+1) > 1) and ((epoch+1) % 15 == 0):\n",
        "          checkpoint.save(file_prefix = checkpoint_prefix)\n",
        "          print(f'Saved checkpoint for epoch {epoch+1}/{EPOCHS} to: {checkpoint_prefix}')\n",
        "        \n",
        "\n",
        "        # cache the loss and perplexity for current epoch\n",
        "        cache['train_loss'].append(total_loss)\n",
        "        cache['train_ppl'].append(total_ppl)\n",
        "\n",
        "        # print loss and perplexity for current epoch\n",
        "        print(f\"Epoch {epoch + 1}/{EPOCHS} - loss: {total_loss} - \"\n",
        "              f\"ppl: {total_ppl}\")\n",
        "        \n",
        "        print(f\"Time taken for epoch ({epoch + 1}): \"\n",
        "              f\"{time.time() - start_epoch} sec\\n\")\n",
        "\n",
        "execution_time = (time.time() - start_time)\n",
        "print(f'Elapsed time: {hms_string(execution_time)}')"
      ],
      "execution_count": 91,
      "outputs": [
        {
          "output_type": "stream",
          "text": [
            "Epoch 1/30 - batch: 0/2 - loss: 2.017299175262451 - ppl: 13.47641658782959\n",
            "Epoch 1/30 - loss: 1.9846668243408203 - ppl: 11.982429504394531\n",
            "Time taken for epoch (1): 23.718831777572632 sec\n",
            "\n",
            "Epoch 2/30 - batch: 0/2 - loss: 1.972826600074768 - ppl: 11.087916374206543\n",
            "Epoch 2/30 - loss: 2.0046708583831787 - ppl: 11.844911575317383\n",
            "Time taken for epoch (2): 0.04822731018066406 sec\n",
            "\n",
            "Epoch 3/30 - batch: 0/2 - loss: 2.057194709777832 - ppl: 12.75274658203125\n",
            "Epoch 3/30 - loss: 1.9707937240600586 - ppl: 11.701409339904785\n",
            "Time taken for epoch (3): 0.046846628189086914 sec\n",
            "\n",
            "Epoch 4/30 - batch: 0/2 - loss: 1.9706367254257202 - ppl: 10.714056968688965\n",
            "Epoch 4/30 - loss: 2.0766279697418213 - ppl: 12.557819366455078\n",
            "Time taken for epoch (4): 0.046835899353027344 sec\n",
            "\n",
            "Epoch 5/30 - batch: 0/2 - loss: 2.3318817615509033 - ppl: 14.975980758666992\n",
            "Epoch 5/30 - loss: 2.0427937507629395 - ppl: 12.538124084472656\n",
            "Time taken for epoch (5): 0.05072140693664551 sec\n",
            "\n",
            "Epoch 6/30 - batch: 0/2 - loss: 2.350975513458252 - ppl: 16.24897575378418\n",
            "Epoch 6/30 - loss: 2.115450143814087 - ppl: 13.816017150878906\n",
            "Time taken for epoch (6): 0.04800224304199219 sec\n",
            "\n",
            "Epoch 7/30 - batch: 0/2 - loss: 2.0285134315490723 - ppl: 12.042859077453613\n",
            "Epoch 7/30 - loss: 2.0071566104888916 - ppl: 11.695196151733398\n",
            "Time taken for epoch (7): 0.0477290153503418 sec\n",
            "\n",
            "Epoch 8/30 - batch: 0/2 - loss: 1.601021647453308 - ppl: 9.10585880279541\n",
            "Epoch 8/30 - loss: 1.962752342224121 - ppl: 12.141775131225586\n",
            "Time taken for epoch (8): 0.04724693298339844 sec\n",
            "\n",
            "Epoch 9/30 - batch: 0/2 - loss: 2.110541820526123 - ppl: 14.246302604675293\n",
            "Epoch 9/30 - loss: 2.0448031425476074 - ppl: 12.405418395996094\n",
            "Time taken for epoch (9): 0.04862165451049805 sec\n",
            "\n",
            "Epoch 10/30 - batch: 0/2 - loss: 2.210880756378174 - ppl: 14.772541046142578\n",
            "Epoch 10/30 - loss: 2.020559787750244 - ppl: 12.272174835205078\n",
            "Time taken for epoch (10): 0.05517220497131348 sec\n",
            "\n",
            "Epoch 11/30 - batch: 0/2 - loss: 2.082379102706909 - ppl: 12.904791831970215\n",
            "Epoch 11/30 - loss: 1.9975075721740723 - ppl: 11.74237060546875\n",
            "Time taken for epoch (11): 0.047405242919921875 sec\n",
            "\n",
            "Epoch 12/30 - batch: 0/2 - loss: 2.1246562004089355 - ppl: 13.264716148376465\n",
            "Epoch 12/30 - loss: 2.037851572036743 - ppl: 12.195796966552734\n",
            "Time taken for epoch (12): 0.0477137565612793 sec\n",
            "\n",
            "Epoch 13/30 - batch: 0/2 - loss: 1.8835909366607666 - ppl: 11.617298126220703\n",
            "Epoch 13/30 - loss: 1.9051741361618042 - ppl: 11.186628341674805\n",
            "Time taken for epoch (13): 0.046974897384643555 sec\n",
            "\n",
            "Epoch 14/30 - batch: 0/2 - loss: 2.263213872909546 - ppl: 14.004172325134277\n",
            "Epoch 14/30 - loss: 2.041640043258667 - ppl: 12.84500503540039\n",
            "Time taken for epoch (14): 0.05394458770751953 sec\n",
            "\n",
            "Epoch 15/30 - batch: 0/2 - loss: 1.917288064956665 - ppl: 9.94426441192627\n",
            "Saved checkpoint for epoch 15/30 to: /content/path/training_checkpoints/ckpt\n",
            "Epoch 15/30 - loss: 1.9700984954833984 - ppl: 11.603900909423828\n",
            "Time taken for epoch (15): 0.08842611312866211 sec\n",
            "\n",
            "Epoch 16/30 - batch: 0/2 - loss: 1.8107929229736328 - ppl: 9.615518569946289\n",
            "Epoch 16/30 - loss: 1.97683846950531 - ppl: 11.617731094360352\n",
            "Time taken for epoch (16): 0.04645657539367676 sec\n",
            "\n",
            "Epoch 17/30 - batch: 0/2 - loss: 2.0322654247283936 - ppl: 11.456852912902832\n",
            "Epoch 17/30 - loss: 1.9694759845733643 - ppl: 11.64588737487793\n",
            "Time taken for epoch (17): 0.04693436622619629 sec\n",
            "\n",
            "Epoch 18/30 - batch: 0/2 - loss: 1.9386199712753296 - ppl: 12.081616401672363\n",
            "Epoch 18/30 - loss: 1.9926848411560059 - ppl: 11.38992691040039\n",
            "Time taken for epoch (18): 0.05845522880554199 sec\n",
            "\n",
            "Epoch 19/30 - batch: 0/2 - loss: 1.7188777923583984 - ppl: 9.41492748260498\n",
            "Epoch 19/30 - loss: 1.9871864318847656 - ppl: 11.685280799865723\n",
            "Time taken for epoch (19): 0.04877138137817383 sec\n",
            "\n",
            "Epoch 20/30 - batch: 0/2 - loss: 1.8875569105148315 - ppl: 10.043959617614746\n",
            "Epoch 20/30 - loss: 1.8575477600097656 - ppl: 10.797879219055176\n",
            "Time taken for epoch (20): 0.04614090919494629 sec\n",
            "\n",
            "Epoch 21/30 - batch: 0/2 - loss: 2.0566515922546387 - ppl: 12.042034149169922\n",
            "Epoch 21/30 - loss: 2.0925140380859375 - ppl: 12.525663375854492\n",
            "Time taken for epoch (21): 0.04776358604431152 sec\n",
            "\n",
            "Epoch 22/30 - batch: 0/2 - loss: 1.8977984189987183 - ppl: 10.908269882202148\n",
            "Epoch 22/30 - loss: 2.0620102882385254 - ppl: 12.284165382385254\n",
            "Time taken for epoch (22): 0.05014371871948242 sec\n",
            "\n",
            "Epoch 23/30 - batch: 0/2 - loss: 2.1882903575897217 - ppl: 13.813830375671387\n",
            "Epoch 23/30 - loss: 2.0041275024414062 - ppl: 11.610051155090332\n",
            "Time taken for epoch (23): 0.04648542404174805 sec\n",
            "\n",
            "Epoch 24/30 - batch: 0/2 - loss: 1.6514290571212769 - ppl: 9.359807014465332\n",
            "Epoch 24/30 - loss: 1.8603034019470215 - ppl: 10.416216850280762\n",
            "Time taken for epoch (24): 0.04887223243713379 sec\n",
            "\n",
            "Epoch 25/30 - batch: 0/2 - loss: 1.663010835647583 - ppl: 8.969212532043457\n",
            "Epoch 25/30 - loss: 1.9141134023666382 - ppl: 10.588766098022461\n",
            "Time taken for epoch (25): 0.04779624938964844 sec\n",
            "\n",
            "Epoch 26/30 - batch: 0/2 - loss: 2.1421303749084473 - ppl: 12.742362022399902\n",
            "Epoch 26/30 - loss: 1.923407793045044 - ppl: 11.385011672973633\n",
            "Time taken for epoch (26): 0.04792475700378418 sec\n",
            "\n",
            "Epoch 27/30 - batch: 0/2 - loss: 2.0606942176818848 - ppl: 13.196413040161133\n",
            "Epoch 27/30 - loss: 1.9588675498962402 - ppl: 11.726709365844727\n",
            "Time taken for epoch (27): 0.04911065101623535 sec\n",
            "\n",
            "Epoch 28/30 - batch: 0/2 - loss: 1.8410379886627197 - ppl: 10.84286117553711\n",
            "Epoch 28/30 - loss: 1.7665140628814697 - ppl: 9.732939720153809\n",
            "Time taken for epoch (28): 0.05150580406188965 sec\n",
            "\n",
            "Epoch 29/30 - batch: 0/2 - loss: 1.8584372997283936 - ppl: 9.616870880126953\n",
            "Epoch 29/30 - loss: 1.823596715927124 - ppl: 9.960529327392578\n",
            "Time taken for epoch (29): 0.047753095626831055 sec\n",
            "\n",
            "Epoch 30/30 - batch: 0/2 - loss: 2.1083905696868896 - ppl: 13.026219367980957\n",
            "Saved checkpoint for epoch 30/30 to: /content/path/training_checkpoints/ckpt\n",
            "Epoch 30/30 - loss: 1.935920238494873 - ppl: 10.94985580444336\n",
            "Time taken for epoch (30): 0.0621490478515625 sec\n",
            "\n",
            "Elapsed time: 0:0:25.2\n"
          ],
          "name": "stdout"
        }
      ]
    },
    {
      "cell_type": "code",
      "metadata": {
        "id": "SQ-C40nD_AmY",
        "colab_type": "code",
        "colab": {}
      },
      "source": [
        ""
      ],
      "execution_count": 0,
      "outputs": []
    },
    {
      "cell_type": "markdown",
      "metadata": {
        "id": "nlNi0wnW_WMz",
        "colab_type": "text"
      },
      "source": [
        "Plot metrics over time:"
      ]
    },
    {
      "cell_type": "code",
      "metadata": {
        "id": "WpdmHsk9_XNb",
        "colab_type": "code",
        "colab": {}
      },
      "source": [
        "def plot_metrics(cache):\n",
        "    \"\"\"\n",
        "    Plots loss and perplexity over epochs:\n",
        "    Arguemnts:\n",
        "        cache: a dictionary that contains values over epochs\n",
        "               for both loss and perplexity.\n",
        "    \"\"\"\n",
        "    \n",
        "    # since, items of cache['train_loss'] and cache['train_ppl']\n",
        "    # are tensors, so let's extract values from these tensors.\n",
        "    loss = [tensor.numpy() for tensor in cache['train_loss']]\n",
        "    ppl = [tensor.numpy() for tensor in cache['train_ppl']]\n",
        "    \n",
        "    # Plot the loss\n",
        "    plt.figure()\n",
        "    plt.plot(loss, label='Training Loss')\n",
        "    plt.title('Loss')\n",
        "    plt.xlabel('Epochs')\n",
        "    plt.show()\n",
        "\n",
        "    # Plot the perplexity\n",
        "    plt.figure()\n",
        "    plt.plot(ppl, label='Training Accuracy')\n",
        "    plt.title('Perplexity')\n",
        "    plt.xlabel('Epochs')\n",
        "    plt.show()"
      ],
      "execution_count": 0,
      "outputs": []
    },
    {
      "cell_type": "code",
      "metadata": {
        "id": "tyNeW_jrAJww",
        "colab_type": "code",
        "colab": {
          "base_uri": "https://localhost:8080/",
          "height": 573
        },
        "outputId": "c75a80c3-524f-41b2-9623-39a437307247"
      },
      "source": [
        "plot_metrics(cache)"
      ],
      "execution_count": 93,
      "outputs": [
        {
          "output_type": "display_data",
          "data": {
            "image/png": "[encoded data removed]",
            "text/plain": [
              "<Figure size 432x288 with 1 Axes>"
            ]
          },
          "metadata": {
            "tags": [],
            "needs_background": "light"
          }
        },
        {
          "output_type": "display_data",
          "data": {
            "image/png": "[encoded data removed]",
            "text/plain": [
              "<Figure size 432x288 with 1 Axes>"
            ]
          },
          "metadata": {
            "tags": [],
            "needs_background": "light"
          }
        }
      ]
    },
    {
      "cell_type": "code",
      "metadata": {
        "id": "-aAjcDcfAfRS",
        "colab_type": "code",
        "colab": {}
      },
      "source": [
        ""
      ],
      "execution_count": 0,
      "outputs": []
    },
    {
      "cell_type": "markdown",
      "metadata": {
        "id": "klWv4-E3A00W",
        "colab_type": "text"
      },
      "source": [
        "## Inference Mode"
      ]
    },
    {
      "cell_type": "markdown",
      "metadata": {
        "id": "cFhk4pbVA96p",
        "colab_type": "text"
      },
      "source": [
        "Now, it's time to try the model and ask him a few questins :)\n",
        "\n",
        "Helper function: to clean the text the user has entered."
      ]
    },
    {
      "cell_type": "code",
      "metadata": {
        "id": "6DCxpQNJA_MT",
        "colab_type": "code",
        "colab": {}
      },
      "source": [
        "def clean_text(text):\n",
        "    \"\"\"\n",
        "    This method takes a string, applies different text preprocessing \n",
        "    (characters replacement, removal of unwanted characters, removal of extra \n",
        "    whitespaces) operations and returns a string.\n",
        "    Arguments:\n",
        "      text: a string.\n",
        "    Returns:\n",
        "      a cleaned version of text.\n",
        "    \"\"\"\n",
        "    \n",
        "    import re\n",
        "    \n",
        "    text = str(text)\n",
        "    \n",
        "    # REPLACEMENT\n",
        "    text = re.sub('\\\"', '\\'', text)\n",
        "    text = re.sub(\"“\", '\\'', text)\n",
        "    text = re.sub(\"”\", '\\'', text)\n",
        "    text = re.sub('’', '\\'', text)\n",
        "    text = re.sub('\\[','(', text)\n",
        "    text = re.sub('\\]',')', text)\n",
        "    text = re.sub('\\{','(', text)\n",
        "    text = re.sub('\\}',')', text)\n",
        "    text = re.sub(\"([?.!,:;'?!+\\-*/=%$@&()])\", r\" \\1 \", text)\n",
        "\n",
        "    pattern = re.compile('[^a-zA-Z0-9_\\.\\,\\:\\;\\'\\?\\!\\+\\-\\*\\/\\=\\%\\$\\@\\&\\(\\)]')\n",
        "    # remove unwanted characters\n",
        "    text = re.sub(pattern, ' ', text)\n",
        "    \n",
        "    # lower case the characters in the string\n",
        "    text = text.lower()\n",
        "    # REMOVAL OF EXTRA WHITESPACES\n",
        "    # remove duplicated spaces\n",
        "    text = re.sub(' +', ' ', text)\n",
        "    # remove leading and trailing spaces\n",
        "    text = text.strip()\n",
        "    \n",
        "    return text"
      ],
      "execution_count": 0,
      "outputs": []
    },
    {
      "cell_type": "markdown",
      "metadata": {
        "id": "N-XkZ9OkCprd",
        "colab_type": "text"
      },
      "source": [
        "The following fucntion passes a sentence that has been entered by the user to the model and returns its answer along with the input."
      ]
    },
    {
      "cell_type": "code",
      "metadata": {
        "id": "KEJkOl2jCqor",
        "colab_type": "code",
        "colab": {}
      },
      "source": [
        "def evaluate(sentence):\n",
        "    \"\"\"\n",
        "    This function takes a sentence (question) and returns the model's output\n",
        "    (answer) to it.\n",
        "    Arguemnts:\n",
        "      sentence: a string.\n",
        "    Returns:\n",
        "      result: a string, representing model's output to the input.\n",
        "      sentence: a string, the input sentence.\n",
        "    \"\"\"\n",
        "\n",
        "    # clean the input sentence (question) to prepare for the encoder\n",
        "    sentence = clean_text(sentence)\n",
        "    sentence = '<start> ' + sentence + ' <end>'\n",
        "\n",
        "    # tokenize the input sentence and pad zeros if its length is less than\n",
        "    # maximum sequence length.\n",
        "    inputs = [text_tokenizer.word_index[i] for i in sentence.split(' ')]\n",
        "    inputs = tf.keras.preprocessing.sequence.pad_sequences([inputs],\n",
        "                                                         maxlen=max_length_inp,\n",
        "                                                         padding='post')\n",
        "  \n",
        "    inputs = tf.convert_to_tensor(inputs)\n",
        "\n",
        "    result = ''\n",
        "\n",
        "    # initilize the hidden state of the encoder\n",
        "    enc_hidden = (tf.zeros((1, units)), \n",
        "                  tf.zeros((1, units)), \n",
        "                  tf.zeros((1, units)), \n",
        "                  tf.zeros((1, units)))\n",
        "    \n",
        "    enc_output, enc_hidden, enc_c = encoder(inputs, enc_hidden)\n",
        "    dec_hidden = enc_hidden\n",
        "\n",
        "    dec_input = tf.expand_dims([text_tokenizer.word_index['<start>']], 0)\n",
        "    \n",
        "    # generate answer, where the maximum length for the answer is equal\n",
        "    # to max_length_targ=32\n",
        "    for t in range(max_length_targ):\n",
        "      predictions, dec_hidden, attention_weights = decoder(dec_input, \n",
        "                                                          dec_hidden, \n",
        "                                                          enc_output)\n",
        "\n",
        "      predicted_id = tf.argmax(predictions[0]).numpy()\n",
        "      result += text_tokenizer.index_word[predicted_id] + ' '\n",
        "\n",
        "      if text_tokenizer.index_word[predicted_id] == '<end>':\n",
        "        return result, sentence\n",
        "\n",
        "      # the predicted ID is fed back into the model\n",
        "      dec_input = tf.expand_dims([predicted_id], 0)\n",
        "\n",
        "    return result, sentence"
      ],
      "execution_count": 0,
      "outputs": []
    },
    {
      "cell_type": "code",
      "metadata": {
        "id": "MOM6JmDUC4O2",
        "colab_type": "code",
        "colab": {}
      },
      "source": [
        "def answer(sentence):\n",
        "  \"\"\"\n",
        "  This function takes an input sentence by the user and prints the \n",
        "  model's answer along with the user's input sentence.\n",
        "  Arguments:\n",
        "      sentence: a string.\n",
        "  \"\"\"\n",
        "\n",
        "  result, sentence = evaluate(sentence)\n",
        "\n",
        "  print(f'INPUT: {sentence}')\n",
        "  print(f'CHATBOT ANSWER: {result}')"
      ],
      "execution_count": 0,
      "outputs": []
    },
    {
      "cell_type": "markdown",
      "metadata": {
        "id": "T04u9VIZD5js",
        "colab_type": "text"
      },
      "source": [
        "Let's try to talk to the chatbot:"
      ]
    },
    {
      "cell_type": "code",
      "metadata": {
        "id": "AwrgxjNQD6i6",
        "colab_type": "code",
        "colab": {}
      },
      "source": [
        "answer(' me')"
      ],
      "execution_count": 0,
      "outputs": []
    },
    {
      "cell_type": "code",
      "metadata": {
        "id": "DFjXceU3ER2Y",
        "colab_type": "code",
        "colab": {}
      },
      "source": [
        ""
      ],
      "execution_count": 0,
      "outputs": []
    }
  ]
}